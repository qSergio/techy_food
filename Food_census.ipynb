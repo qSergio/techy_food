{
 "cells": [
  {
   "cell_type": "markdown",
   "id": "347508d2-7bb9-400f-a2b8-ded23a39fc56",
   "metadata": {},
   "source": [
    "## Food Stamps Application Analysis"
   ]
  },
  {
   "cell_type": "markdown",
   "id": "405f4a5e-3828-4335-aa1a-2a7c049836b8",
   "metadata": {},
   "source": [
    "### Initial Objectives\n",
    "\n",
    "1. If the data is too large for the analysis, what will you do to reduce the size of the data, or work with the full dataset?  \n",
    "2. What is the incidence rate?  Are there enough records for you to build a model? If not, what steps will  you take to ensure you can attempt a  model with this data.\n",
    "3. What data makes sense to use as potential features for a model, and which data does not?\n",
    "4. What data cleansing techniques did you use and why?\n",
    "5. Prepare your data for model development, explaining the steps you used for that preparation.\n",
    "Make sure to document all the steps you used for building the model(s).\n",
    "6. Include any relevant metrics that you use to determine if the model is acceptable or not. \n",
    "Be ready to defend your results. It is fine if you cannot build a model that will successfully predict the likelihood of using food stamps. You just need to be able to explain why that is the case.\n",
    "7. If you do successfully build a model, test the results on another state, like Texas or California.  Download the data for the appropriate state from https://www2.census.gov/programs-surveys/acs/data/pums/2021/1-Year/.  csv_pca.zip is California, and csv_ptx.zip is Texas."
   ]
  },
  {
   "cell_type": "code",
   "execution_count": 1,
   "id": "3eb7122c-580e-460b-bf10-25ae7323aacc",
   "metadata": {},
   "outputs": [],
   "source": [
    "import pandas as pd"
   ]
  },
  {
   "cell_type": "code",
   "execution_count": 2,
   "id": "ac36f05b-293a-41d8-a072-f7ee93f79277",
   "metadata": {},
   "outputs": [],
   "source": [
    "df = pd.read_csv('psam_p05.csv')"
   ]
  },
  {
   "cell_type": "code",
   "execution_count": 3,
   "id": "78567752-22b1-4b48-9ebe-c5c7ea4a26a8",
   "metadata": {},
   "outputs": [
    {
     "data": {
      "text/plain": [
       "(30050, 287)"
      ]
     },
     "execution_count": 3,
     "metadata": {},
     "output_type": "execute_result"
    }
   ],
   "source": [
    "df.shape"
   ]
  },
  {
   "cell_type": "code",
   "execution_count": 5,
   "id": "4b70195d-2f1f-4c61-8813-49e7d81e233d",
   "metadata": {},
   "outputs": [
    {
     "data": {
      "text/html": [
       "<div>\n",
       "<style scoped>\n",
       "    .dataframe tbody tr th:only-of-type {\n",
       "        vertical-align: middle;\n",
       "    }\n",
       "\n",
       "    .dataframe tbody tr th {\n",
       "        vertical-align: top;\n",
       "    }\n",
       "\n",
       "    .dataframe thead th {\n",
       "        text-align: right;\n",
       "    }\n",
       "</style>\n",
       "<table border=\"1\" class=\"dataframe\">\n",
       "  <thead>\n",
       "    <tr style=\"text-align: right;\">\n",
       "      <th></th>\n",
       "      <th>RT</th>\n",
       "      <th>SERIALNO</th>\n",
       "      <th>DIVISION</th>\n",
       "      <th>SPORDER</th>\n",
       "      <th>PUMA</th>\n",
       "      <th>REGION</th>\n",
       "      <th>ST</th>\n",
       "      <th>ADJINC</th>\n",
       "      <th>PWGTP</th>\n",
       "      <th>AGEP</th>\n",
       "      <th>...</th>\n",
       "      <th>PWGTP71</th>\n",
       "      <th>PWGTP72</th>\n",
       "      <th>PWGTP73</th>\n",
       "      <th>PWGTP74</th>\n",
       "      <th>PWGTP75</th>\n",
       "      <th>PWGTP76</th>\n",
       "      <th>PWGTP77</th>\n",
       "      <th>PWGTP78</th>\n",
       "      <th>PWGTP79</th>\n",
       "      <th>PWGTP80</th>\n",
       "    </tr>\n",
       "  </thead>\n",
       "  <tbody>\n",
       "    <tr>\n",
       "      <th>0</th>\n",
       "      <td>P</td>\n",
       "      <td>2021GQ0000060</td>\n",
       "      <td>7</td>\n",
       "      <td>1</td>\n",
       "      <td>700</td>\n",
       "      <td>3</td>\n",
       "      <td>5</td>\n",
       "      <td>1029928</td>\n",
       "      <td>58</td>\n",
       "      <td>34</td>\n",
       "      <td>...</td>\n",
       "      <td>54</td>\n",
       "      <td>55</td>\n",
       "      <td>110</td>\n",
       "      <td>107</td>\n",
       "      <td>12</td>\n",
       "      <td>12</td>\n",
       "      <td>99</td>\n",
       "      <td>61</td>\n",
       "      <td>12</td>\n",
       "      <td>63</td>\n",
       "    </tr>\n",
       "    <tr>\n",
       "      <th>1</th>\n",
       "      <td>P</td>\n",
       "      <td>2021GQ0000334</td>\n",
       "      <td>7</td>\n",
       "      <td>1</td>\n",
       "      <td>1900</td>\n",
       "      <td>3</td>\n",
       "      <td>5</td>\n",
       "      <td>1029928</td>\n",
       "      <td>106</td>\n",
       "      <td>21</td>\n",
       "      <td>...</td>\n",
       "      <td>8</td>\n",
       "      <td>112</td>\n",
       "      <td>204</td>\n",
       "      <td>198</td>\n",
       "      <td>105</td>\n",
       "      <td>99</td>\n",
       "      <td>214</td>\n",
       "      <td>9</td>\n",
       "      <td>105</td>\n",
       "      <td>113</td>\n",
       "    </tr>\n",
       "    <tr>\n",
       "      <th>2</th>\n",
       "      <td>P</td>\n",
       "      <td>2021GQ0000904</td>\n",
       "      <td>7</td>\n",
       "      <td>1</td>\n",
       "      <td>1100</td>\n",
       "      <td>3</td>\n",
       "      <td>5</td>\n",
       "      <td>1029928</td>\n",
       "      <td>13</td>\n",
       "      <td>67</td>\n",
       "      <td>...</td>\n",
       "      <td>10</td>\n",
       "      <td>24</td>\n",
       "      <td>11</td>\n",
       "      <td>24</td>\n",
       "      <td>12</td>\n",
       "      <td>11</td>\n",
       "      <td>0</td>\n",
       "      <td>8</td>\n",
       "      <td>11</td>\n",
       "      <td>11</td>\n",
       "    </tr>\n",
       "  </tbody>\n",
       "</table>\n",
       "<p>3 rows × 287 columns</p>\n",
       "</div>"
      ],
      "text/plain": [
       "  RT       SERIALNO  DIVISION  SPORDER  PUMA  REGION  ST   ADJINC  PWGTP  \\\n",
       "0  P  2021GQ0000060         7        1   700       3   5  1029928     58   \n",
       "1  P  2021GQ0000334         7        1  1900       3   5  1029928    106   \n",
       "2  P  2021GQ0000904         7        1  1100       3   5  1029928     13   \n",
       "\n",
       "   AGEP  ...  PWGTP71  PWGTP72  PWGTP73  PWGTP74  PWGTP75  PWGTP76  PWGTP77  \\\n",
       "0    34  ...       54       55      110      107       12       12       99   \n",
       "1    21  ...        8      112      204      198      105       99      214   \n",
       "2    67  ...       10       24       11       24       12       11        0   \n",
       "\n",
       "   PWGTP78  PWGTP79  PWGTP80  \n",
       "0       61       12       63  \n",
       "1        9      105      113  \n",
       "2        8       11       11  \n",
       "\n",
       "[3 rows x 287 columns]"
      ]
     },
     "execution_count": 5,
     "metadata": {},
     "output_type": "execute_result"
    }
   ],
   "source": [
    "df.head(3)"
   ]
  },
  {
   "cell_type": "code",
   "execution_count": null,
   "id": "2c473b4c-c1a4-4e1f-9959-1e7a5b41231a",
   "metadata": {},
   "outputs": [],
   "source": []
  }
 ],
 "metadata": {
  "kernelspec": {
   "display_name": "Python 3 (ipykernel)",
   "language": "python",
   "name": "python3"
  },
  "language_info": {
   "codemirror_mode": {
    "name": "ipython",
    "version": 3
   },
   "file_extension": ".py",
   "mimetype": "text/x-python",
   "name": "python",
   "nbconvert_exporter": "python",
   "pygments_lexer": "ipython3",
   "version": "3.8.16"
  }
 },
 "nbformat": 4,
 "nbformat_minor": 5
}
